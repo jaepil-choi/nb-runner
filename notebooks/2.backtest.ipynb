{
 "cells": [
  {
   "cell_type": "markdown",
   "id": "55fbfcf8",
   "metadata": {},
   "source": [
    "# Description\n",
    "- This ipynb file is a notebook for running backtests on verified strategies only.\n",
    "\n",
    "- The user must first choose whether the strategy will be used for futures or spot by selecting the appropriate `tradeType` value.\n",
    "\n",
    "- This notebook is preconfigured with default values to work easily on Google Colab. If you are using a local Python notebook environment instead of Colab, please pay close attention to all path configurations.\n",
    "\n",
    "#### 1. Import library\n",
    " - Import the required libraries.\n",
    "\n",
    "#### 2. Load Api key\n",
    " - Load the registered `USER_KEY` and `DATA_KEY` from the .env file.\n",
    "\n",
    "#### 3. Upload strategy to backtest server\n",
    " - You need to specify the location of your strategy file in the `file_path` variable.\n",
    " - At this stage, it is crucial to ensure that the `tradeType` is correctly set to either `future` or `spot`.\n",
    " - Then, upload the verified strategy to the server for backtesting.\n",
    " - If successful, a success message will be displayed.\n",
    " - You can also review the code of the uploaded strategy.\n",
    "\n",
    "#### 4. Delete – Optional\n",
    " - If there are any modifications to the uploaded strategy, you can delete the existing one and upload it again.\n",
    "\n",
    "#### 5. Config\n",
    " - This cell is for **configuring the strategy**.\n",
    " - In the backtesting phase, you don’t need to upload a separate configuration file (`config.py`). Instead, strategy parameters can be modified **flexibly** within this notebook.\n",
    " - The user should copy and use the `rebalancing_config` and `strategy_config` sections from their actual `config.py` file here.\n",
    " - System-related additional configuration parameters:\n",
    " - start, end date: Set the start and end dates of the backtest in UTC.\n",
    " - lookback_min: The maximum value among the strategy parameters. This determines how many minutes of past data should be fetched to calculate the current position.\n",
    " - initial capital: The initial amount of capital for the backtest. If this value is too small, decimal-based trading may not be possible for some assets.\n",
    " - leverage: The leverage multiplier to be applied in the strategy.\n",
    " - symbols: A list of trading pairs (symbols) to include in the backtest.\n",
    " - calendar: A fixed value\n",
    " - frequency: A fixed value\n",
    " - weight method:\n",
    "     - \"equal\": Assigns equal weight to all symbols.\n",
    "     - \"split\": Automatically splits the weights between long and short positions.\n",
    "     - \"custom\": Allows you to manually define weights using a `custom_weights` dictionary.\n",
    "       - Example:\n",
    "```python\n",
    "custom_weights = {\n",
    "    \"BTCUSDT\": 0.5,\n",
    "    \"ETHUSDT\": 0.3,\n",
    "    ...\n",
    "}\n",
    "```\n",
    "       - ※ In this case, all values in the dictionary must be exactly 1.0.\n",
    " - generate_report_flag:\n",
    "    - True: Displays backtest logs along with a graph in HTML format for visualization.\n",
    "    - False: Displays only the logs, which is useful for faster testing.\n",
    "    \n",
    "#### 6. Run backtest\n",
    "- Check the save location for the HTML report file, then start this cell.\n",
    "- If the backtest runs successfully, the logs will be printed in the following order:\n",
    " 1. Runtime configuration\n",
    " 2. Backtest started\n",
    " 3. Logs showing the backtest progress\n",
    " 4. Backtest completed\n",
    " 5. Backtest analysis and HTML file saved successfully message will appear\n",
    "\n",
    "---\n",
    "\n",
    "#### ⚠️ Important\n",
    " - If the `.env` file does not contain `USER_KEY` and `DATA_KEY`, you must register the `USER_KEY` and generate the configuration file using `\"1. strategy_verify_test.ipynb\"`.\n",
    "\n",
    "---\n",
    "\n",
    "#### - Original GitHub Link : https://github.com/NeoMatrixAI/nb-runner/tree/main/notebooks"
   ]
  },
  {
   "cell_type": "markdown",
   "id": "f0c74cac",
   "metadata": {},
   "source": [
    "# Mount Google Drive"
   ]
  },
  {
   "cell_type": "code",
   "execution_count": null,
   "id": "93e09c34",
   "metadata": {},
   "outputs": [],
   "source": [
    "# from google.colab import drive\n",
    "# drive.mount('/content/drive')\n",
    "\n",
    "# import warnings\n",
    "# warnings.filterwarnings('ignore')"
   ]
  },
  {
   "cell_type": "markdown",
   "id": "18d7982c",
   "metadata": {},
   "source": [
    "# Import library"
   ]
  },
  {
   "cell_type": "code",
   "execution_count": 2,
   "id": "a3e27505",
   "metadata": {
    "ExecuteTime": {
     "end_time": "2025-06-30T05:19:17.099957Z",
     "start_time": "2025-06-30T05:19:16.873289Z"
    }
   },
   "outputs": [],
   "source": [
    "import requests\n",
    "import json\n",
    "import pandas as pd\n",
    "from datetime import datetime"
   ]
  },
  {
   "cell_type": "code",
   "execution_count": 2,
   "id": "c7d55a49",
   "metadata": {},
   "outputs": [],
   "source": [
    "import os\n",
    "from dotenv import load_dotenv\n",
    "\n",
    "load_dotenv()\n",
    "\n",
    "user_key = os.getenv('USER_KEY')\n",
    "data_apikey = os.getenv('DATA_API_KEY')\n",
    "\n"
   ]
  },
  {
   "cell_type": "markdown",
   "id": "a59e8be3",
   "metadata": {},
   "source": [
    "# Load Api Key"
   ]
  },
  {
   "cell_type": "code",
   "execution_count": null,
   "id": "655d0b40",
   "metadata": {},
   "outputs": [],
   "source": [
    "!pip install dotenv"
   ]
  },
  {
   "cell_type": "code",
   "execution_count": null,
   "id": "c02d0d2d",
   "metadata": {
    "ExecuteTime": {
     "end_time": "2025-06-30T06:18:01.086973Z",
     "start_time": "2025-06-30T06:18:01.085354Z"
    }
   },
   "outputs": [],
   "source": [
    "from dotenv import load_dotenv\n",
    "import os\n",
    "\n",
    "load_dotenv(dotenv_path= \"/content/drive/MyDrive/NeoMatrixAI/module/.env\")\n",
    "\n",
    "USER_KEY = os.getenv(\"USER_KEY\")\n",
    "DATA_KEY = os.getenv(\"DATA_KEY\")\n",
    "\n",
    "print(\"USER_KEY:\", USER_KEY if USER_KEY else \"Not found\")\n",
    "print(\"DATA_KEY:\", DATA_KEY if DATA_KEY else \"Not found\")"
   ]
  },
  {
   "cell_type": "markdown",
   "id": "cd321a36",
   "metadata": {},
   "source": [
    "# Health check"
   ]
  },
  {
   "cell_type": "code",
   "execution_count": 26,
   "id": "2ce40114",
   "metadata": {
    "ExecuteTime": {
     "end_time": "2025-06-30T06:18:05.334134Z",
     "start_time": "2025-06-30T06:18:05.332576Z"
    }
   },
   "outputs": [
    {
     "data": {
      "text/plain": [
       "{'message': 'API Server is Running.', 'status': 200, 'user': 'neomatrix_sub4'}"
      ]
     },
     "execution_count": 4,
     "metadata": {},
     "output_type": "execute_result"
    }
   ],
   "source": [
    "root_url = f'https://zipline.fin.cloud.ainode.ai/{USER_KEY}/'\n",
    "requests.get(root_url).json()"
   ]
  },
  {
   "cell_type": "markdown",
   "id": "ce2ac2ef",
   "metadata": {},
   "source": [
    "# Upload to backtest server"
   ]
  },
  {
   "cell_type": "code",
   "execution_count": null,
   "id": "125f7a8f",
   "metadata": {
    "ExecuteTime": {
     "end_time": "2025-06-30T05:19:19.343062Z",
     "start_time": "2025-06-30T05:19:19.341297Z"
    }
   },
   "outputs": [],
   "source": [
    "tradeType = 'future' # spot / future\n",
    "strategy_name = 'multi_period_momentum'"
   ]
  },
  {
   "cell_type": "code",
   "execution_count": null,
   "id": "51bd4860",
   "metadata": {
    "ExecuteTime": {
     "end_time": "2025-06-30T06:18:07.957348Z",
     "start_time": "2025-06-30T06:18:07.955631Z"
    }
   },
   "outputs": [],
   "source": [
    "# Upload strategy file\n",
    "endpoint = 'upload/strategy/'\n",
    "url = root_url + endpoint\n",
    "\n",
    "params = {'tradeType':tradeType} # spot / future\n",
    "\n",
    "file_path = f\"/content/drive/MyDrive/NeoMatrixAI/{strategy_name}.py\"\n",
    "\n",
    "with open(file_path, \"rb\") as f:\n",
    "    files = {\"file\": f}\n",
    "    response = requests.post(url, params=params, files=files)\n",
    "\n",
    "print(\"📂 Upload Response:\", response.json())"
   ]
  },
  {
   "cell_type": "code",
   "execution_count": null,
   "id": "76aee549",
   "metadata": {
    "ExecuteTime": {
     "end_time": "2025-06-30T06:18:11.242061Z",
     "start_time": "2025-06-30T06:18:11.240476Z"
    }
   },
   "outputs": [],
   "source": [
    "# Check strategy file upload\n",
    "endpoint = 'upload/strategy/check/'\n",
    "url = root_url + endpoint\n",
    "\n",
    "params = {'tradeType':tradeType, \"strategy_name\":strategy_name}\n",
    "\n",
    "response = requests.get(url, params=params)\n",
    "print(response.json()['content'])"
   ]
  },
  {
   "cell_type": "markdown",
   "id": "b5bb6bd7",
   "metadata": {},
   "source": [
    "# Delete - Optional"
   ]
  },
  {
   "cell_type": "code",
   "execution_count": null,
   "id": "6e8035de",
   "metadata": {
    "ExecuteTime": {
     "end_time": "2025-06-30T05:19:23.102212Z",
     "start_time": "2025-06-30T05:19:23.100369Z"
    }
   },
   "outputs": [],
   "source": [
    "# # Delete uploaded strategy settings file\n",
    "# endpoint = 'upload/strategy/delete/'\n",
    "# url = root_url + endpoint\n",
    "\n",
    "# params = {\"tradeType\":tradeType, \"strategy_name\":strategy_name}\n",
    "\n",
    "# # Sending a DELETE request\n",
    "# response = requests.delete(url, params=params)\n",
    "# print(response.json())"
   ]
  },
  {
   "cell_type": "markdown",
   "id": "924a41ad",
   "metadata": {},
   "source": [
    "# config"
   ]
  },
  {
   "cell_type": "code",
   "execution_count": null,
   "id": "6a3b9358",
   "metadata": {
    "ExecuteTime": {
     "end_time": "2025-06-30T05:35:21.230631Z",
     "start_time": "2025-06-30T05:35:21.226578Z"
    }
   },
   "outputs": [],
   "source": [
    "hours = [1,3,6]\n",
    "strategy_config_params = {\n",
    "  \"rebalancing_config\": {             # Rebalancing settings\n",
    "    \"rebalancing_interval_hours\": 72, ## Rebalancing cycle (choose between 6, 12, 24, and 72 hours)\n",
    "    \"minimum_candidates\": 0           ## Minimum number of symbols to select\n",
    "  },\n",
    "  \"strategy_config\": {                # Setting strategy parameters\n",
    "    \"long_maximum_candidates\": 5,     ## Parameters for your strategy\n",
    "    \"short_maximum_candidates\": 5,    ## Parameters for your strategy\n",
    "    \"minutes\": [int(i*60) for i in hours]          ## Parameters for your strategy\n",
    "  }\n",
    "}\n",
    "\n",
    "start_date_str = \"2025-03-10\"\n",
    "end_date_str = \"2025-03-20\"\n",
    "lookback_min = 360 # Max lookback minutes the script needs for data history\n",
    "initial_capital = 200000\n",
    "leverage = 10\n",
    "symbols = ['BTCUSDT', 'ETHUSDT', 'XRPUSDT', 'BCHUSDT', 'LTCUSDT',\n",
    "           'ADAUSDT', 'ETCUSDT', 'TRXUSDT', 'DOTUSDT', 'DOGEUSDT']\n",
    "calendar = \"24/7\" # fixed variable\n",
    "frequency = \"minute\" # fixed variable\n",
    "weight_method = \"custom\" # weight method - equal, split(long/short), custom\n",
    "custom_weights = { # example\n",
    "  # 'symbol_n': 'value',\n",
    "    'BTCUSDT': 0.5,\n",
    "    'ETHUSDT': 0.2,\n",
    "    'XRPUSDT': 0.1,\n",
    "    'BCHUSDT': 0.04,\n",
    "    'LTCUSDT': 0.04,\n",
    "    'ADAUSDT': 0.03,\n",
    "    'ETCUSDT': 0.03,\n",
    "    'TRXUSDT': 0.03,\n",
    "    'DOTUSDT': 0.02,\n",
    "    'DOGEUSDT': 0.01\n",
    "    }\n",
    "\n",
    "generate_report_flag = True # True : backtest logging + html backtest result\n",
    "                            # False : backtest logging"
   ]
  },
  {
   "cell_type": "markdown",
   "id": "a7929bda",
   "metadata": {
    "ExecuteTime": {
     "end_time": "2025-05-09T04:59:36.954430Z",
     "start_time": "2025-05-09T04:59:36.946864Z"
    }
   },
   "source": [
    "# Run backtest"
   ]
  },
  {
   "cell_type": "code",
   "execution_count": null,
   "id": "35138970",
   "metadata": {
    "ExecuteTime": {
     "end_time": "2025-06-30T06:18:17.183479Z",
     "start_time": "2025-06-30T06:18:17.181206Z"
    },
    "scrolled": false
   },
   "outputs": [],
   "source": [
    "path = \"/content/drive/MyDrive/NeoMatrixAI/backtest_report\" # <---------------- Modify your own route\n",
    "\n",
    "request_payload = {\n",
    "    \"data_apikey\": DATA_KEY,\n",
    "    \"strategy\": strategy_name + '.py',\n",
    "    \"strategy_config\": strategy_config_params,\n",
    "    \"start_date\": start_date_str,\n",
    "    \"end_date\": end_date_str,\n",
    "    \"lookback_minutes\": lookback_min,\n",
    "    \"capital\": initial_capital,\n",
    "    \"leverage\": leverage,\n",
    "    \"symbols\": symbols,\n",
    "    \"calendar\": calendar,\n",
    "    \"frequency\": frequency,\n",
    "    \"weight_method\": weight_method,\n",
    "    \"generate_pyfolio_report\": generate_report_flag\n",
    "}\n",
    "\n",
    "# Add custom_weights if weight_method is custom\n",
    "if weight_method == \"custom\":\n",
    "    if not custom_weights:\n",
    "        raise ValueError(\"custom_weights is required if weight_method is 'custom'\")\n",
    "    request_payload[\"custom_weights\"] = custom_weights\n",
    "\n",
    "endpoint = 'run/future/backtest/'\n",
    "url = root_url + endpoint\n",
    "\n",
    "try:\n",
    "    response = requests.post(url, json=request_payload)\n",
    "    response.raise_for_status()\n",
    "    print(f\"\\n--- Backtest execution successful (Status Code: {response.status_code}) ---\")\n",
    "\n",
    "    try:\n",
    "        result_data = response.json()\n",
    "        report_type = result_data.get('report_type') # Check report type\n",
    "\n",
    "        if report_type == 'html':\n",
    "            print(\"Report Type: HTML Report included.\")\n",
    "            html_content = result_data.get('html_content')\n",
    "            logs = result_data.get('logs', 'No stderr logs received.')\n",
    "            stdout_logs = result_data.get('stdout', 'No stdout received.')\n",
    "\n",
    "            if html_content:\n",
    "                if not os.path.exists(path):\n",
    "                    os.makedirs(path)\n",
    "\n",
    "                report_filename = os.path.join(path, f\"{datetime.now().strftime('%Y-%m-%d %H:%M')}_{strategy_name}_backtest_report.html\")\n",
    "                try:\n",
    "                    with open(report_filename, \"w\", encoding=\"utf-8\") as f:\n",
    "                        f.write(html_content)\n",
    "                    print(f\"HTML report received and saved successfully as '{report_filename}'.\")\n",
    "                except Exception as e:\n",
    "                    print(f\"ERROR: Failed to save received HTML report: {e}\")\n",
    "                    print(\"\\n--- Received HTML Content (Snippet) ---\")\n",
    "                    print(html_content[:1000] + \"...\") # Output some content when saving fails\n",
    "            else:\n",
    "                print(\"WARN: Report type was 'html' but no HTML content found in response.\")\n",
    "\n",
    "            # print logging\n",
    "            print(\"\\n--- Execution Logs (stderr) ---\")\n",
    "            print(logs)\n",
    "            if stdout_logs:\n",
    "                print(\"\\n--- Execution Output (stdout) ---\")\n",
    "                print(stdout_logs)\n",
    "\n",
    "        elif report_type == 'logs_only':\n",
    "            print(f\"Report Type: Logs Only (Report generation skipped).\")\n",
    "            print(f\"Message: {result_data.get('message')}\")\n",
    "            print(\"\\n--- Execution Logs (stderr) ---\")\n",
    "            print(result_data.get('logs', 'No stderr logs received.'))\n",
    "            if 'stdout' in result_data:\n",
    "                 print(\"\\n--- Execution Output (stdout) ---\")\n",
    "                 print(result_data.get('stdout', 'No stdout received.'))\n",
    "        else:\n",
    "            print(f\"WARN: Received successful response with unknown report_type: '{report_type}'\")\n",
    "            print(\"\\n--- Full JSON Response ---\")\n",
    "            print(json.dumps(result_data, indent=2, ensure_ascii=False))\n",
    "\n",
    "    except json.JSONDecodeError:\n",
    "        print(\"ERROR: Failed to decode JSON response from successful API call.\")\n",
    "        print(f\"Content-Type: {response.headers.get('content-type', 'N/A')}\")\n",
    "        print(\"\\n--- Received Raw Content (First 1000 chars) ---\")\n",
    "        print(response.text[:1000] + \"...\")\n",
    "\n",
    "except requests.exceptions.Timeout:\n",
    "    print(f\"\\n--- API call failed: Timeout) ---\")\n",
    "except requests.exceptions.HTTPError as e:\n",
    "    print(f\"\\n--- API call failed: HTTP Error {e.response.status_code} ---\")\n",
    "    try:\n",
    "        error_details = e.response.json()\n",
    "        print(\"Error details:\")\n",
    "        print(json.dumps(error_details, indent=2, ensure_ascii=False))\n",
    "    except json.JSONDecodeError:\n",
    "        print(\"Error response content (Non-JSON):\")\n",
    "        print(e.response.text)\n",
    "except requests.exceptions.RequestException as e:\n",
    "    print(f\"\\n--- API call failure: Request Error ---\")\n",
    "    print(f\"Error connecting to or requesting the API server ({url}): {e}\")\n",
    "except Exception as e:\n",
    "    print(f\"\\n--- Unexpected error occurred ---\")\n",
    "    print(f\"Error type: {type(e).__name__}, Content: {e}\")"
   ]
  }
 ],
 "metadata": {
  "kernelspec": {
   "display_name": "Python 3",
   "language": "python",
   "name": "python3"
  },
  "language_info": {
   "codemirror_mode": {
    "name": "ipython",
    "version": 3
   },
   "file_extension": ".py",
   "mimetype": "text/x-python",
   "name": "python",
   "nbconvert_exporter": "python",
   "pygments_lexer": "ipython3",
   "version": "3.8.10"
  },
  "toc": {
   "base_numbering": 1,
   "nav_menu": {},
   "number_sections": false,
   "sideBar": true,
   "skip_h1_title": false,
   "title_cell": "Table of Contents",
   "title_sidebar": "Contents",
   "toc_cell": false,
   "toc_position": {},
   "toc_section_display": true,
   "toc_window_display": false
  }
 },
 "nbformat": 4,
 "nbformat_minor": 5
}
