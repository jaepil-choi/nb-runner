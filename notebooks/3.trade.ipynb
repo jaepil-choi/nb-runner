{
 "cells": [
  {
   "cell_type": "markdown",
   "id": "98be6fce",
   "metadata": {},
   "source": [
    "# Description\n",
    "- This ipynb file is used to run live trading.\n",
    "- Users proceed with live trading based on strategies that have been verified and successfully backtested.\n",
    "\n",
    "1. Load API Key\n",
    "2. Upload to Main Server\n",
    "   - Just like in backtesting, upload both the strategy and config files to the server.  \n",
    "2-1. Upload strategy  \n",
    "2-2. Upload config  \n",
    "\n",
    "3. DELETE – Optional\n",
    "4. Run Auto-Trade\n",
    "   - Download the log_viewer.py file\n",
    "   - Run the #run-system cell\n",
    "   - Then, execute the terminal command to run log_viewer.py\n",
    "5. Terminate\n",
    "6. Confirm Position Holding After Terminating\n",
    "\n",
    "---\n",
    "\n",
    "#### ⚠️ Important\n",
    " - If the `.env` file does not contain `USER_KEY` and `DATA_KEY`, you must register the `USER_KEY` and generate the configuration file using `\"1. strategy_verify_test.ipynb\"`.\n",
    "\n",
    "---\n",
    "\n",
    "#### - Original GitHub Link : https://github.com/NeoMatrixAI/nb-runner/tree/main/notebooks"
   ]
  },
  {
   "cell_type": "markdown",
   "id": "8248d143",
   "metadata": {},
   "source": [
    "# Mount Google Drive"
   ]
  },
  {
   "cell_type": "code",
   "execution_count": null,
   "id": "766879cf",
   "metadata": {},
   "outputs": [],
   "source": [
    "# from google.colab import drive\n",
    "# drive.mount('/content/drive')\n",
    "\n",
    "# import warnings\n",
    "# warnings.filterwarnings('ignore')"
   ]
  },
  {
   "cell_type": "markdown",
   "id": "65cc6973",
   "metadata": {},
   "source": [
    "# Load Api Key"
   ]
  },
  {
   "cell_type": "code",
   "execution_count": null,
   "id": "dc30841d",
   "metadata": {},
   "outputs": [],
   "source": [
    "!pip install dotenv"
   ]
  },
  {
   "cell_type": "code",
   "execution_count": null,
   "id": "c02d0d2d",
   "metadata": {
    "ExecuteTime": {
     "end_time": "2025-06-30T06:35:36.924485Z",
     "start_time": "2025-06-30T06:35:36.923053Z"
    }
   },
   "outputs": [],
   "source": [
    "from dotenv import load_dotenv\n",
    "import os\n",
    "\n",
    "load_dotenv(dotenv_path= \"/content/drive/MyDrive/NeoMatrixAI/module/.env\")\n",
    "\n",
    "USER_KEY = os.getenv(\"USER_KEY\")\n",
    "DATA_KEY = os.getenv(\"DATA_KEY\")\n",
    "\n",
    "print(\"USER_KEY:\", USER_KEY if USER_KEY else \"Not found\")\n",
    "print(\"DATA_KEY:\", DATA_KEY if DATA_KEY else \"Not found\")"
   ]
  },
  {
   "cell_type": "markdown",
   "id": "445b0739",
   "metadata": {},
   "source": [
    "# health check"
   ]
  },
  {
   "cell_type": "code",
   "execution_count": null,
   "id": "e869b347",
   "metadata": {
    "ExecuteTime": {
     "end_time": "2025-06-30T06:35:38.906393Z",
     "start_time": "2025-06-30T06:35:38.904907Z"
    }
   },
   "outputs": [
    {
     "data": {
      "text/plain": [
       "{'message': 'API Server is Running.', 'status': 200, 'user': 'neomatrix_sub4'}"
      ]
     },
     "execution_count": 6,
     "metadata": {},
     "output_type": "execute_result"
    }
   ],
   "source": [
    "import requests\n",
    "\n",
    "root_url = f'https://aifapbt.fin.cloud.ainode.ai/{USER_KEY}/'\n",
    "requests.get(root_url).json()"
   ]
  },
  {
   "cell_type": "markdown",
   "id": "993f7b59",
   "metadata": {},
   "source": [
    "# upload to main server"
   ]
  },
  {
   "cell_type": "markdown",
   "id": "24589be1",
   "metadata": {},
   "source": [
    "## strategy"
   ]
  },
  {
   "cell_type": "code",
   "execution_count": null,
   "id": "b22fefe7",
   "metadata": {
    "ExecuteTime": {
     "end_time": "2025-06-30T06:30:49.716459Z",
     "start_time": "2025-06-30T06:30:49.714537Z"
    }
   },
   "outputs": [],
   "source": [
    "strategy_name = \"multi_period_momentum\""
   ]
  },
  {
   "cell_type": "code",
   "execution_count": null,
   "id": "141b6c5d",
   "metadata": {
    "ExecuteTime": {
     "end_time": "2025-06-30T06:35:41.370481Z",
     "start_time": "2025-06-30T06:35:41.368874Z"
    }
   },
   "outputs": [],
   "source": [
    "# Upload strategy file\n",
    "endpoint = 'upload/strategy/'\n",
    "url = root_url + endpoint\n",
    "\n",
    "base_path = \"/content/drive/MyDrive/NeoMatrixAI\"\n",
    "file_path = os.path.join(base_path, strategy_name + \".py\")\n",
    "\n",
    "with open(file_path, \"rb\") as f:\n",
    "    files = {\"file\": f}\n",
    "    response = requests.post(url, files=files)\n",
    "\n",
    "print(\"📂 Upload Response:\", response.json())"
   ]
  },
  {
   "cell_type": "code",
   "execution_count": null,
   "id": "615960b9",
   "metadata": {
    "ExecuteTime": {
     "end_time": "2025-06-30T06:35:43.677083Z",
     "start_time": "2025-06-30T06:35:43.675566Z"
    }
   },
   "outputs": [],
   "source": [
    "# Check strategy file upload\n",
    "endpoint = 'upload/check/strategy/'\n",
    "url = root_url + endpoint\n",
    "\n",
    "params = {\"strategy_name\": strategy_name}\n",
    "\n",
    "response = requests.get(url, params=params)\n",
    "print(response.json()['content'])"
   ]
  },
  {
   "cell_type": "code",
   "execution_count": null,
   "id": "ad048f86",
   "metadata": {
    "ExecuteTime": {
     "end_time": "2025-06-30T06:35:46.525116Z",
     "start_time": "2025-06-30T06:35:46.523556Z"
    }
   },
   "outputs": [],
   "source": [
    "# Check all uploaded strategy files\n",
    "endpoint = 'upload/check/all-files/strategy/'\n",
    "url = root_url + endpoint\n",
    "\n",
    "response = requests.get(url)\n",
    "print(response.json())"
   ]
  },
  {
   "cell_type": "markdown",
   "id": "5a69f02a",
   "metadata": {},
   "source": [
    "## DELETE"
   ]
  },
  {
   "cell_type": "code",
   "execution_count": null,
   "id": "b4c88077",
   "metadata": {
    "ExecuteTime": {
     "end_time": "2025-06-30T06:27:31.348593Z",
     "start_time": "2025-06-30T06:27:31.347044Z"
    }
   },
   "outputs": [],
   "source": [
    "# # Delete uploaded strategy settings file\n",
    "# endpoint = 'upload/delete/strategy/'\n",
    "# url = root_url + endpoint\n",
    "\n",
    "# params = {\"strategy_name\": strategy_name}\n",
    "\n",
    "# # Sending a DELETE request\n",
    "# response = requests.delete(url, params=params)\n",
    "# print(response.json())"
   ]
  },
  {
   "cell_type": "markdown",
   "id": "2607fe59",
   "metadata": {},
   "source": [
    "## config"
   ]
  },
  {
   "cell_type": "code",
   "execution_count": null,
   "id": "deb3f013",
   "metadata": {
    "ExecuteTime": {
     "end_time": "2025-06-30T06:35:48.923548Z",
     "start_time": "2025-06-30T06:35:48.921937Z"
    }
   },
   "outputs": [],
   "source": [
    "# Upload strategy file\n",
    "endpoint = 'upload/config/'\n",
    "url = root_url + endpoint\n",
    "\n",
    "config_name = strategy_name + \"_config\"\n",
    "base_path = \"/content/drive/MyDrive/NeoMatrixAI/\"\n",
    "file_path = os.path.join(base_path, config_name + \".py\")\n",
    "\n",
    "with open(file_path, \"rb\") as f:\n",
    "    files = {\"file\": f}\n",
    "    response = requests.post(url, files=files)\n",
    "\n",
    "print(\"📂 Upload Response:\", response.json())"
   ]
  },
  {
   "cell_type": "code",
   "execution_count": null,
   "id": "8f031259",
   "metadata": {
    "ExecuteTime": {
     "end_time": "2025-06-30T06:35:54.452158Z",
     "start_time": "2025-06-30T06:35:54.450600Z"
    }
   },
   "outputs": [],
   "source": [
    "# Check strategy file upload\n",
    "endpoint = 'upload/check/config/'\n",
    "url = root_url + endpoint\n",
    "\n",
    "config_name = strategy_name + \"_config\"\n",
    "params = {\"config_name\": config_name}\n",
    "\n",
    "response = requests.get(url, params=params)\n",
    "print(response.json()['content'])"
   ]
  },
  {
   "cell_type": "code",
   "execution_count": null,
   "id": "6b304320",
   "metadata": {
    "ExecuteTime": {
     "end_time": "2025-06-30T06:35:56.509412Z",
     "start_time": "2025-06-30T06:35:56.507871Z"
    }
   },
   "outputs": [],
   "source": [
    "# Check all uploaded config files\n",
    "endpoint = 'upload/check/all-files/config/'\n",
    "url = root_url + endpoint\n",
    "\n",
    "response = requests.get(url)\n",
    "print(response.json())"
   ]
  },
  {
   "cell_type": "markdown",
   "id": "14201b77",
   "metadata": {},
   "source": [
    "## DELETE"
   ]
  },
  {
   "cell_type": "code",
   "execution_count": null,
   "id": "2fcb734b",
   "metadata": {
    "ExecuteTime": {
     "end_time": "2025-06-30T06:32:58.198358Z",
     "start_time": "2025-06-30T06:32:58.171494Z"
    }
   },
   "outputs": [],
   "source": [
    "# # Delete uploaded strategy settings file\n",
    "# endpoint = 'upload/delete/config/'\n",
    "# url = root_url + endpoint\n",
    "\n",
    "# config_name = strategy_name + \"_config\"\n",
    "# params = {\"config_name\": config_name}\n",
    "\n",
    "# # Sending a DELETE request\n",
    "# response = requests.delete(url, params=params)\n",
    "# print(response.json())"
   ]
  },
  {
   "cell_type": "markdown",
   "id": "d2fbcae3",
   "metadata": {},
   "source": [
    "# Run Auto-Trade"
   ]
  },
  {
   "cell_type": "code",
   "execution_count": null,
   "id": "e69d9e21",
   "metadata": {
    "ExecuteTime": {
     "end_time": "2025-06-30T06:35:58.903992Z",
     "start_time": "2025-06-30T06:35:58.902547Z"
    }
   },
   "outputs": [],
   "source": [
    "# download oncetime\n",
    "!wget https://raw.githubusercontent.com/NeoMatrixAI/nb-runner/main/modules/log_viewer.py -O /content/drive/MyDrive/NeoMatrixAI/module/log_viewer.py  # trade log module"
   ]
  },
  {
   "cell_type": "code",
   "execution_count": null,
   "id": "f7120879",
   "metadata": {
    "ExecuteTime": {
     "end_time": "2025-06-30T06:36:01.410056Z",
     "start_time": "2025-06-30T06:36:01.408306Z"
    }
   },
   "outputs": [],
   "source": [
    "# run-system\n",
    "endpoint = 'command/run-system'\n",
    "url = root_url + endpoint\n",
    "\n",
    "data = {\n",
    "    \"strategy_name\": strategy_name,\n",
    "    \"method\": \"rebalancing\"\n",
    "}\n",
    "\n",
    "response = requests.post(url, json=data)\n",
    "\n",
    "try:\n",
    "  session_id = response.json()['session_id']\n",
    "  print('session id :',response.json()['session_id'])\n",
    "  print('dashboard :',response.json()['dashboard_url'])\n",
    "except:\n",
    "  print('Error :',response.json()['message']['message'])\n",
    "\n",
    "  session_id = response.json()['message']['session_id']\n",
    "  print('session id :',session_id)\n",
    "\n",
    "  print('dashboard :',response.json()['message']['dashboard_url'])"
   ]
  },
  {
   "cell_type": "code",
   "execution_count": null,
   "id": "7d327a51",
   "metadata": {
    "ExecuteTime": {
     "end_time": "2025-06-30T06:36:03.753489Z",
     "start_time": "2025-06-30T06:36:03.752012Z"
    },
    "scrolled": true
   },
   "outputs": [],
   "source": [
    "# !python {your path for 'log_viewer.py'} --USER_KEY {USER_KEY} --session_id {session_id} --save_log true/false\n",
    "!python /content/drive/MyDrive/NeoMatrixAI/module/log_viewer.py --USER_KEY {USER_KEY} --session_id {session_id} --save_log true"
   ]
  },
  {
   "cell_type": "markdown",
   "id": "585ff7c5",
   "metadata": {},
   "source": [
    "# terminate"
   ]
  },
  {
   "cell_type": "code",
   "execution_count": null,
   "id": "ac399711",
   "metadata": {
    "ExecuteTime": {
     "end_time": "2025-06-30T06:36:06.011032Z",
     "start_time": "2025-06-30T06:36:06.009530Z"
    }
   },
   "outputs": [],
   "source": [
    "# terminate process\n",
    "# You must execute terminate to force liquidation of the current process.\n",
    "endpoint = 'command/terminate/'\n",
    "url = root_url + endpoint\n",
    "\n",
    "params = {\"session_id\": f\"{session_id}\"}\n",
    "\n",
    "response = requests.get(url, params=params)\n",
    "print(response.json())"
   ]
  },
  {
   "cell_type": "markdown",
   "id": "c6950928",
   "metadata": {},
   "source": [
    "# Confirm position holding after Terminating"
   ]
  },
  {
   "cell_type": "code",
   "execution_count": null,
   "id": "7435995d",
   "metadata": {
    "ExecuteTime": {
     "end_time": "2025-06-30T06:36:08.540915Z",
     "start_time": "2025-06-30T06:36:08.539302Z"
    }
   },
   "outputs": [],
   "source": [
    "import pandas as pd\n",
    "\n",
    "def all_positions(user_key, productType, marginCoin):\n",
    "    url = f\"https://bitgettrader.fin.cloud.ainode.ai/{USER_KEY}/future/position/all-positions\"\n",
    "\n",
    "    payload = {\n",
    "        \"user_key\": USER_KEY,\n",
    "        \"all_positions\": {\n",
    "            \"productType\": productType,\n",
    "            'marginCoin': marginCoin.upper()\n",
    "        }\n",
    "    }\n",
    "\n",
    "    response = requests.post(url, json=payload)\n",
    "    data = response.json()['data']\n",
    "    df = pd.DataFrame(data)\n",
    "    if df.empty:\n",
    "        print('Everything has been liquidated')\n",
    "        pass\n",
    "    return df\n",
    "\n",
    "\n",
    "productType = 'susdt-futures'\n",
    "marginCoin = 'susdt'\n",
    "df = all_positions(USER_KEY, productType, marginCoin)\n",
    "df"
   ]
  }
 ],
 "metadata": {
  "kernelspec": {
   "display_name": "aifinance",
   "language": "python",
   "name": "python3"
  },
  "language_info": {
   "codemirror_mode": {
    "name": "ipython",
    "version": 3
   },
   "file_extension": ".py",
   "mimetype": "text/x-python",
   "name": "python",
   "nbconvert_exporter": "python",
   "pygments_lexer": "ipython3",
   "version": "3.8.20"
  },
  "toc": {
   "base_numbering": 1,
   "nav_menu": {},
   "number_sections": false,
   "sideBar": true,
   "skip_h1_title": false,
   "title_cell": "Table of Contents",
   "title_sidebar": "Contents",
   "toc_cell": false,
   "toc_position": {},
   "toc_section_display": true,
   "toc_window_display": false
  }
 },
 "nbformat": 4,
 "nbformat_minor": 5
}
